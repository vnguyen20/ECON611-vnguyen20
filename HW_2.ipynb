{
 "cells": [
  {
   "cell_type": "markdown",
   "metadata": {},
   "source": [
    "<img src=\"https://images.efollett.com/htmlroot/images/templates/storeLogos/CA/864.gif\" style=\"float: right;\"> \n",
    "\n",
    "\n",
    "\n",
    "\n",
    "# ECON611\n",
    "### HW_2 -  Python: Lists and Dictionaries\n",
    "#### Due: September 30"
   ]
  },
  {
   "cell_type": "markdown",
   "metadata": {},
   "source": [
    "Lists are the foundational data structures used in Python. "
   ]
  },
  {
   "cell_type": "code",
   "execution_count": 7,
   "metadata": {},
   "outputs": [],
   "source": [
    "import json"
   ]
  },
  {
   "cell_type": "markdown",
   "metadata": {},
   "source": [
    "### Warm-up (30 points)\n",
    "Some people were having trouble solving some of the warm-up questions, so we are breaking them down in sub-questions for at least the first two assignments. If you have a different way you want to do, please feel free to ignore the break-down.\n",
    "#### 1. \n",
    "Reverse the first half of a list\n",
    "  \n",
    "a) Create a new variable that holds the first half of the list. If the last has an odd number of elements, round down (i.e. len(list) = 5, reverse the first two elements).  \n",
    "  \n",
    "b) Reverse the list created in a)  \n",
    "  \n",
    "c) Append the second half of the ```inp``` list to the end of the list from b)  \n",
    "  \n",
    "input: ```[1, 2, 3, 4, 5, 6, 7]```  \n",
    "output: ```[3, 2, 1, 4, 5, 6, 7]```  "
   ]
  },
  {
   "cell_type": "code",
   "execution_count": 9,
   "metadata": {},
   "outputs": [
    {
     "name": "stdout",
     "output_type": "stream",
     "text": [
      "[3, 2, 1, [4, 5, 6, 7]]\n"
     ]
    }
   ],
   "source": [
    "inp = [1, 2, 3, 4, 5, 6, 7]\n",
    "inpA = inp[0:3]\n",
    "inpB = inp[3:7]\n",
    "Apni = inpA[::-1]\n",
    "Apni.append(inpB)\n",
    "print(Apni)\n"
   ]
  },
  {
   "cell_type": "markdown",
   "metadata": {},
   "source": [
    "### 2.\n",
    "Given two lists, write all the possible combinations of the two into a new list.  \n",
    "  \n",
    "input: ```[1, 2, 3, 4]``` and ```['a', 'b', 'c', 'd']```  \n",
    "output: ```[(1, 'a'), (1, 'b'), (1, 'c'), (1, 'd'), (2, 'a'), (2, 'b'), (2, 'c'), (2, 'd'), (3, 'a'), (3, 'b'), (3, 'c'), (3, 'd'), (4, 'a'), (4, 'b'), (4, 'c'), (4, 'd')]```  \n",
    "  \n",
    "a) Create an empty list  \n",
    "  \n",
    "b) loop through both lists and append a tuple of (list 1 element, list 2 element) to the output list. HINT: use a for loop"
   ]
  },
  {
   "cell_type": "code",
   "execution_count": 17,
   "metadata": {},
   "outputs": [
    {
     "name": "stdout",
     "output_type": "stream",
     "text": [
      "[[[1, 'a'], [1, 'b'], [1, 'c'], [1, 'd']], [[2, 'a'], [2, 'b'], [2, 'c'], [2, 'd']], [[3, 'a'], [3, 'b'], [3, 'c'], [3, 'd']], [[4, 'a'], [4, 'b'], [4, 'c'], [4, 'd']]]\n"
     ]
    }
   ],
   "source": [
    "inp1 = [1, 2, 3, 4]\n",
    "inp2 = ['a', 'b', 'c', 'd']\n",
    "inp3 = [] #creates empty list for inp1,inp2 pairs to be added in\n",
    "for i in inp1: \n",
    "    new_inp = [] \n",
    "    for j in inp2: \n",
    "        new_inp.append([i,j]) \n",
    "    inp3.append(new_inp)\n",
    "print(inp3)\n",
    "    #for each element i in input 1, create an empty list new_inp. for each j in input 2, append the pairing of [i,j] to the empty list new_inp. after the i,js have been iterated in the for loop, append the results to empty list inp3. \n",
    "#note: output given as list of lists, not tuple. unsure how to fix.\n",
    "#source: user Joe Smart https://stackoverflow.com/questions/32438350/python-merging-two-lists-with-all-possible-permutations/32438848"
   ]
  },
  {
   "cell_type": "markdown",
   "metadata": {},
   "source": [
    "#### 3.\n",
    "Given two sorted lists, merge them maintaining the sorted order.  \n",
    "  \n",
    "input: ```[1, 3, 6]``` and ```[1, 2, 5, 14]```  \n",
    "output: ```[1, 1, 2, 3, 5, 6, 14]```\n",
    "  \n",
    "a) Create an empty list. \n",
    "  \n",
    "b) You will need to loop through both lists at the same time. If the element you are looking at in ```inp1``` is less than the element you are looking at in ```inp2```, append the element in ```inp1``` to the list created in a) and move on to the next element in ```inp1```. If the element is in ```inp2```, append that element to a) and move on to the next element in ```inp2```.  HINT: you probably want to use a while loop.\n",
    "  \n",
    "\n"
   ]
  },
  {
   "cell_type": "code",
   "execution_count": 48,
   "metadata": {},
   "outputs": [
    {
     "ename": "TypeError",
     "evalue": "'builtin_function_or_method' object is not subscriptable",
     "output_type": "error",
     "traceback": [
      "\u001b[0;31m---------------------------------------------------------------------------\u001b[0m",
      "\u001b[0;31mTypeError\u001b[0m                                 Traceback (most recent call last)",
      "\u001b[0;32m<ipython-input-48-1020308d4bb0>\u001b[0m in \u001b[0;36m<module>\u001b[0;34m()\u001b[0m\n\u001b[1;32m     10\u001b[0m                 \u001b[0mblank\u001b[0m\u001b[0;34m.\u001b[0m\u001b[0mappend\u001b[0m\u001b[0;34m[\u001b[0m\u001b[0mi\u001b[0m\u001b[0;34m]\u001b[0m\u001b[0;34m\u001b[0m\u001b[0m\n\u001b[1;32m     11\u001b[0m             \u001b[0;32melse\u001b[0m\u001b[0;34m:\u001b[0m\u001b[0;34m\u001b[0m\u001b[0m\n\u001b[0;32m---> 12\u001b[0;31m                 \u001b[0mblank\u001b[0m\u001b[0;34m.\u001b[0m\u001b[0mappend\u001b[0m\u001b[0;34m[\u001b[0m\u001b[0mj\u001b[0m\u001b[0;34m]\u001b[0m\u001b[0;34m\u001b[0m\u001b[0m\n\u001b[0m\u001b[1;32m     13\u001b[0m     \u001b[0mi\u001b[0m \u001b[0;34m+=\u001b[0m\u001b[0;36m1\u001b[0m\u001b[0;34m\u001b[0m\u001b[0m\n\u001b[1;32m     14\u001b[0m \u001b[0mcomb\u001b[0m\u001b[0;34m.\u001b[0m\u001b[0mappend\u001b[0m\u001b[0;34m(\u001b[0m\u001b[0mblank\u001b[0m\u001b[0;34m)\u001b[0m\u001b[0;34m\u001b[0m\u001b[0m\n",
      "\u001b[0;31mTypeError\u001b[0m: 'builtin_function_or_method' object is not subscriptable"
     ]
    }
   ],
   "source": [
    "inp1 = [1, 3, 6]\n",
    "inp2 = [1, 2, 5, 14]\n",
    "comb = []\n",
    "i = 0\n",
    "while i <=3:   \n",
    "    blank = []\n",
    "    for i in inp1:\n",
    "        for j in inp2:\n",
    "            if i < j:\n",
    "                blank.append[i]\n",
    "            else:\n",
    "                blank.append[j]\n",
    "    i +=1\n",
    "comb.append(blank)\n",
    "print(comb)\n",
    "\n",
    "#pseudo-code:\n",
    "#make empty list\n",
    "#for i in inp1\n",
    "    #if j in inp2 < i in inp1\n",
    "        #emptylist.append i\n",
    "        #else emptylist.append j\n",
    "#note: unsure how to de-bug"
   ]
  },
  {
   "cell_type": "markdown",
   "metadata": {},
   "source": [
    "### Questions (70 points)"
   ]
  },
  {
   "cell_type": "code",
   "execution_count": 11,
   "metadata": {},
   "outputs": [],
   "source": [
    "with open('../database/hw_2.json') as f:\n",
    "    products = json.load(f)"
   ]
  },
  {
   "cell_type": "markdown",
   "metadata": {},
   "source": [
    "Stephen goes to target. ```products``` is a list of tuples that contain information about what is in stock there. The format of the tuple is ```(item id, stock, price, how much stephen values the product)```\n",
    "\n",
    "#### 1. Separate the list of tuples into 4 lists\n"
   ]
  },
  {
   "cell_type": "code",
   "execution_count": 57,
   "metadata": {},
   "outputs": [
    {
     "name": "stdout",
     "output_type": "stream",
     "text": [
      "\n",
      " #1: The following are lists of each category: item, stock, price, and Steven's valuation:\n",
      "\n",
      " item: [0, 1, 2, 3, 4, 5, 6, 7, 8, 9, 10, 11, 12, 13, 14, 15, 16, 17, 18, 19, 20, 21, 22, 23, 24, 25, 26, 27, 28, 29, 30, 31, 32, 33, 34, 35, 36, 37, 38, 39, 40, 41, 42, 43, 44, 45, 46, 47, 48, 49, 50, 51, 52, 53, 54, 55, 56, 57, 58, 59, 60, 61, 62, 63, 64, 65, 66, 67, 68, 69, 70, 71, 72, 73, 74, 75, 76, 77, 78, 79, 80, 81, 82, 83, 84, 85, 86, 87, 88, 89, 90, 91, 92, 93, 94, 95, 96, 97, 98, 99]\n",
      "\n",
      " stock [1, 2, 20, 19, 16, 22, 0, 23, 18, 10, 8, 13, 3, 0, 8, 20, 13, 18, 15, 9, 0, 12, 19, 24, 17, 10, 20, 12, 15, 14, 19, 19, 11, 22, 7, 3, 21, 15, 14, 19, 2, 4, 4, 0, 19, 3, 24, 19, 5, 6, 15, 7, 5, 15, 17, 23, 0, 10, 10, 2, 24, 2, 17, 4, 0, 20, 14, 17, 7, 3, 17, 22, 6, 9, 10, 13, 6, 6, 16, 16, 18, 12, 9, 22, 0, 22, 23, 16, 19, 9, 16, 19, 15, 10, 4, 23, 14, 21, 14, 3]\n",
      "\n",
      " price: [101.93602021280064, 10.894342157462795, 11.844080983593695, 6.869088216468875, 47.72272164918158, 2.01065653510808, 114.98615895612085, 9.382001305961644, 27.633784384417876, 15.652483970052266, 86.67001160500293, 2.5596212299714503, 14.549880724957704, 13.680146830104597, 62.41274131894139, 6.686621457064503, 16.904363645055092, 8.348998420926767, 20.951573411360123, 35.974674821372155, 6.68175597014865, 63.100185532726115, 49.481097135593195, 33.19815622211637, 49.44475319799778, 10.137811442815627, 17.762860245948158, 7.879233012873762, 15.36530307441098, 34.13609970636612, 10.057707422315108, 13.507518726918216, 10.10294837819472, 8.626116109119005, 10.265141849856382, 19.832765655877182, 6.571155231516867, 25.391531116496136, 105.61518698842477, 42.184133232011646, 16.579457808565337, 8.267821364312567, 9.514735539017783, 109.12069912672433, 21.132407333241474, 10.622818259369566, 24.310673307335673, 164.06376061070935, 22.649979627525237, 37.23328464334909, 27.117257137397296, 14.122230026832256, 6.407580880600212, 14.163344835784828, 16.29903276734249, 36.11192673269095, 46.47820132066135, 50.9631122242514, 26.724675783437323, 48.673812977855725, 9.446100954942395, 70.30677418245453, 33.54640889956518, 14.90813690497092, 32.737399715489886, 18.62357566500094, 62.27931744518522, 91.81877674548346, 178.67623168733564, 4.970416624745941, 4.739284593006167, 12.128209915102662, 23.57146969423915, 48.239052995253004, 27.53987480182238, 2.6585976490665546, 14.78770344881711, 45.969339544059835, 25.282051961920903, 43.034889925673376, 16.08153721918525, 16.43218531923161, 24.205052466733207, 30.266807415139247, 24.49085347086565, 22.62394018433381, 10.271136846860557, 29.299304727977734, 22.68766241963084, 62.145841679833886, 66.61420745204151, 24.171068887950327, 13.800641131797482, 10.604406184657085, 30.676422232324008, 21.700603437696653, 14.241301858164165, 20.980571793902456, 10.804893745157548, 40.367783715839934]\n",
      "\n",
      " value: [185.10884418022408, 8.047874427041796, 8.4577208847232, 11.785942454295737, 27.61836283780311, 1.488040201120746, 112.55633944579581, 7.416327399625584, 20.77468832296961, 24.753829928072122, 68.68867296598606, 2.6842976005599124, 9.893762292749553, 12.169681539543351, 79.6307879103853, 6.524855620725107, 13.974590182860403, 0.0, 21.031023302921643, 18.473501093393917, 6.981673608425863, 94.87682726930174, 27.475684904333843, 11.0115108577283, 43.097270647050806, 12.132840152006244, 0.9239249020898797, 4.476118898291954, 7.532834659401003, 37.726833737852374, 9.435844765588472, 15.524048754078839, 13.01759268315648, 6.907099655436624, 13.732991328541196, 14.20370431676983, 2.101090268889701, 27.847402649361158, 75.89171930050317, 44.51825494617568, 28.380999757967043, 0.5704442282830922, 11.070985742707188, 132.04285641398295, 17.89222098635391, 9.666412726728437, 19.145990007036637, 123.00191786686443, 2.1543799371058405, 18.95790994890788, 41.58566317671651, 21.74773012102341, 6.971451662490625, 15.063912067368367, 0.0, 26.97806437876445, 21.199485851035163, 53.3367291052379, 10.268837264281395, 54.21916041454727, 17.741635061986635, 43.92120954104281, 27.473226475171572, 15.006340651988882, 38.86451348611779, 1.4009477209809091, 53.61922014980544, 106.4109348247947, 146.6251970263063, 4.866188370222256, 7.7201549029374785, 15.93858998208853, 11.751246010056207, 67.24470832754433, 12.983404969564496, 3.3792866771056964, 21.585680886017283, 47.13544782597606, 40.468391003966914, 41.183990855265904, 14.890405292882473, 17.575259647506, 1.1750509043183825, 65.52978810238129, 20.74050130845982, 6.152992590599915, 0.0, 25.70350058047658, 22.72145565029654, 53.82618038848521, 53.1654070101228, 26.071782626782294, 16.139402318695694, 4.749546568244925, 41.460195425235455, 18.16926742206261, 9.685881322064368, 27.87873500292476, 14.133833100725543, 19.70418730186274]\n"
     ]
    }
   ],
   "source": [
    "import json\n",
    "with open('/Users/Nikki/desktop/econ611-vnguyen20/econ611/database/hw_2.json') as f:      \n",
    "    data = json.load(f)\n",
    "\n",
    "#reference: user Abishek Mittal https://stackoverflow.com/questions/25050311/extract-first-item-of-each-sublist\n",
    "#make an empty list for each category\n",
    "#for the ith element in data, append the jth sub-element that corresponds to each category. \n",
    "#index i guide:item = 0, stock = 1, price = 3\n",
    "print(\"\\n #1: The following are lists of each category: item, stock, price, and Steven's valuation:\")\n",
    "item = []\n",
    "item.append([i[0] for i in data])\n",
    "print(\"\\n item:\", item[0])\n",
    "\n",
    "stock = []\n",
    "stock.append([i[1] for i in data])\n",
    "print(\"\\n stock\", stock[0])\n",
    "\n",
    "price = []\n",
    "price.append([i[2] for i in data])\n",
    "print(\"\\n price:\", price[0])\n",
    "\n",
    "val = []\n",
    "val.append([i[3] for i in data])\n",
    "print(\"\\n value:\", val[0])\n",
    "    #for some reason, new lists return as 1 element with 100 sub-elements. \n",
    "    #throughout assignment i use category[0] to work around, unsure how to fix. \n"
   ]
  },
  {
   "cell_type": "markdown",
   "metadata": {},
   "source": [
    "#### 2. What is the most expensive product? "
   ]
  },
  {
   "cell_type": "code",
   "execution_count": 58,
   "metadata": {},
   "outputs": [
    {
     "name": "stdout",
     "output_type": "stream",
     "text": [
      "\n",
      " #2: The most expensive item costs 178.67623168733564 dollars. item ID: 0\n"
     ]
    }
   ],
   "source": [
    "#goal: return max of price list with its item ID\n",
    "#obtain max value in price list\n",
    "#determine jth placement in list\n",
    "#reference: lecture notes, ln 32\n",
    "for i in range(len(price)):\n",
    "    print(\"\\n #2: The most expensive item costs %s dollars. item ID: %d\" % (max(price[0]), i))\n"
   ]
  },
  {
   "cell_type": "markdown",
   "metadata": {},
   "source": [
    "#### 3. What are the three cheapest products?\n"
   ]
  },
  {
   "cell_type": "code",
   "execution_count": 59,
   "metadata": {},
   "outputs": [],
   "source": [
    "#goal: identify lowest 3 values in price and include itemID (index position in item list)\n",
    "#sort price from low to high, print 0:3 elements with original index position\n",
    "#resource: https://www.geeksforgeeks.org/python-largest-smallest-second-largest-second-smallest-list/\n",
    "\n",
    "def low(price):\n",
    "    length = len(price[0])\n",
    "    price.sort()\n",
    "    print(\"price\", price[0][length-1])\n",
    "#unsure how to make work"
   ]
  },
  {
   "cell_type": "markdown",
   "metadata": {},
   "source": [
    "#### 4.  What is the total value of all the goods in Target"
   ]
  },
  {
   "cell_type": "code",
   "execution_count": 60,
   "metadata": {},
   "outputs": [
    {
     "name": "stdout",
     "output_type": "stream",
     "text": [
      "\n",
      " #4: The sum of all goods in Target is: 3145 dollars\n"
     ]
    }
   ],
   "source": [
    "# goal: sum price\n",
    "print(\"\\n #4: The sum of all goods in Target is %d dollars\" % sum(price[0]))\n"
   ]
  },
  {
   "cell_type": "markdown",
   "metadata": {},
   "source": [
    "#### 5. Target decides that all goods should cost at least 50 dollars. Create a new list products_50 w/ the updated prices and recalculate the total value of all the goods with these prices"
   ]
  },
  {
   "cell_type": "code",
   "execution_count": 63,
   "metadata": {
    "scrolled": true
   },
   "outputs": [
    {
     "name": "stdout",
     "output_type": "stream",
     "text": [
      "\n",
      " #5: The sum of all goods in target over 50 dollars is 1390 dollars\n"
     ]
    }
   ],
   "source": [
    "#approach: if price < 50, remove from products_50, then sum products_50 \n",
    "products_50 = []\n",
    "for i in price[0]:\n",
    "    if i >= 50:\n",
    "        products_50.append(i)\n",
    "print(\"\\n #5: The sum of all goods in target over 50 dollars is %d dollars\" % sum(products_50))"
   ]
  },
  {
   "cell_type": "markdown",
   "metadata": {},
   "source": [
    "### Bonus (20 points)\n",
    "Stephen's mom gives him $3000 to spend. What is the best bundle Stephen can buy? Note his mom will take his money back if he doesn't spend it.  \n",
    "  \n",
    "There is no way to solve this perfectly without creating all the combinations, which is computationally impossible. However, there are good ways to get a close to optimal bundle, and we will award points based off people's ideas there. This is a type of question you would usually see in an algorithms class, which is usually taken after 2 semesters of CS and focuses on these types of questions, so we don't expect anybody to solve this. Feel free to give a try though. Since it is a bonus question, we will not provide any assistance for it."
   ]
  },
  {
   "cell_type": "code",
   "execution_count": null,
   "metadata": {},
   "outputs": [],
   "source": []
  }
 ],
 "metadata": {
  "kernelspec": {
   "display_name": "Python 3",
   "language": "python",
   "name": "python3"
  },
  "language_info": {
   "codemirror_mode": {
    "name": "ipython",
    "version": 3
   },
   "file_extension": ".py",
   "mimetype": "text/x-python",
   "name": "python",
   "nbconvert_exporter": "python",
   "pygments_lexer": "ipython3",
   "version": "3.7.0"
  }
 },
 "nbformat": 4,
 "nbformat_minor": 2
}
