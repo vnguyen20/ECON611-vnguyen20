{
 "cells": [
  {
   "cell_type": "markdown",
   "metadata": {},
   "source": [
    "<img src=\"https://images.efollett.com/htmlroot/images/templates/storeLogos/CA/864.gif\" style=\"float: right;\"> \n",
    "\n",
    "\n",
    "\n",
    "\n",
    "# ECON611\n",
    "### HW_4 -  SQL\n",
    "#### Due: Nov 18\n",
    "\n",
    "We will be using the sample databases that come from the DBeaver program (use the Database Installation guide to assist you on installing it). We will be using the sample tables that are provided there. Save your work as a SQL script with answers to specific questions commented out properly labled."
   ]
  },
  {
   "cell_type": "code",
   "execution_count": null,
   "metadata": {},
   "outputs": [],
   "source": [
    "how to use windows and partition id: \n",
    "SELECT\n",
    "\talbumid,\n",
    "\tname,\n",
    "\tmilliseconds,\n",
    "\tDENSE_RANK () over(\n",
    "\t\tPARTITION by albumid\n",
    "\t\torder by milliseconds\n",
    "\t) lengthrank\n",
    "from \n",
    "\ttrack where lengthrank=4"
   ]
  },
  {
   "cell_type": "markdown",
   "metadata": {},
   "source": [
    "## 1. Music and Album Data\n",
    "---\n",
    "We will be using the following tables from DBeaver:\n",
    "• Album • Artist • Genre • Track • PlaylistTrack • MediaType"
   ]
  },
  {
   "cell_type": "markdown",
   "metadata": {},
   "source": [
    "## Problems (40 points)\n",
    "---"
   ]
  },
  {
   "cell_type": "markdown",
   "metadata": {},
   "source": [
    "#### A. (5 points). Output a table that has the columns Album Title, Artist, Track Name, Genre, Composer, Length of Song (minutes) \n",
    "---"
   ]
  },
  {
   "cell_type": "markdown",
   "metadata": {
    "collapsed": true
   },
   "source": [
    "\n",
    "select \n",
    "album.Title as Album_Title, \n",
    "artist.Name as Artist, \n",
    "track.name as Track_Name, \n",
    "genre.name as Genre, \n",
    "track.Composer as Composer,\n",
    "track.Milliseconds/(1000*60) as Length_in_Minutes\n",
    "from album \n",
    "join artist on album.artistid = artist.artistid\n",
    "join track on track.albumid = album.AlbumId\n",
    "join genre on genre.GenreId = track.GenreId\n",
    "\n",
    "/%reference: https://javarevisited.blogspot.com/2012/11/how-to-join-three-tables-in-sql-query-mysql-sqlserver.html %/\n"
   ]
  },
  {
   "cell_type": "markdown",
   "metadata": {},
   "source": [
    "#### B. (5 points). Output a frequency table for how many letters are in an album title and a song title. (i.e. 3 columns: number of letters, number of album titles with that amount of letters, number of song titles with that amount of letters). What is the average and range of amount of letters?\n",
    "---"
   ]
  },
  {
   "cell_type": "markdown",
   "metadata": {
    "collapsed": true
   },
   "source": [
    "TKTK\n",
    "select album_summary.ct_album, track_summary.ct_track from\n",
    "(select ct_album, count(ct_album)\n",
    "\tfrom (select trackid, length(Album_Title) as ct_album, length(Track_Name) as ct_track \n",
    "\t\tfrom (select album.title as Album_Title, track.name as Track_Name, track.TrackId\n",
    "\t\t\tfrom album join track on album.albumid = track.AlbumId) as ct_summary) \n",
    "as album_summary group by ct_album)\n",
    "join \n",
    "(select ct_track, count(ct_track)\n",
    "\tfrom (select trackid, length(Album_Title) as ct_album, length(Track_Name) as ct_track \n",
    "\t\tfrom (select album.title as Album_Title, track.name as Track_Name, track.TrackId\n",
    "\t\t\tfrom album join track on album.albumid = track.AlbumId) as ct_summary) \n",
    "as track_summary group by ct_track) on album_summary.ct_album = track_summary.ct_track\n",
    "/*reference: https://www.essentialsql.com/get-ready-to-learn-sql-server-22-using-subqueries-in-the-from-clause/ */"
   ]
  },
  {
   "cell_type": "markdown",
   "metadata": {},
   "source": [
    "#### C. (10 points). How many songs did each composer write? How many artists composed their own music? Output all of the Artists who had songs that were longer than 2.5 minutes and they did not write their own songs.\n",
    "---"
   ]
  },
  {
   "cell_type": "markdown",
   "metadata": {
    "collapsed": true
   },
   "source": [
    "/%songs written per composer*/\n",
    "select track.Composer, count(track.Composer)\n",
    "from Track group by track.Composer\n",
    "\n",
    "***\n",
    "\n",
    "/*count of self-written artists*/\n",
    "select count (DISTINCT composer) as 'Count of self-composed artists:' from (select track.TrackId, track.composer, artist.Name\n",
    "from track join album on track.AlbumId = album.AlbumId\n",
    "join artist on album.ArtistId = artist.ArtistId\n",
    "where track.composer is artist.name) \n",
    "\n",
    "***\n",
    "\n",
    "/*artists with songs longer than 2.5min, not self-written*/\n",
    "select distinct name from (select track.TrackId, track.composer, track.milliseconds/(1000) as time_in_sec, artist.Name\n",
    "from track join album on track.AlbumId = album.AlbumId\n",
    "join artist on album.ArtistId = artist.ArtistId\n",
    "where track.composer is not artist.name\n",
    "and time_in_sec > 150)\n"
   ]
  },
  {
   "cell_type": "markdown",
   "metadata": {},
   "source": [
    "#### D. (10 points). How many albums contain songs that only have an even number of seconds in the length of the song and the songs are all MPEG audio files?\n",
    "---"
   ]
  },
  {
   "cell_type": "markdown",
   "metadata": {
    "collapsed": true
   },
   "source": [
    "TKTK unsure how to apply parameters to the entire album \n",
    "select track.albumid, track.milliseconds/1000 as length_in_seconds, track.MediaTypeId from track\n",
    "where (length_in_seconds%2)=0\n",
    "and MediaTypeId=1"
   ]
  },
  {
   "cell_type": "markdown",
   "metadata": {},
   "source": [
    "#### E. (10 points). How large, in terms of Megabytes are each album? On average, how large, in terms of bytes, is a pop song? What is the range and average duration of a heavy metal song in minutes?\n",
    "---"
   ]
  },
  {
   "cell_type": "markdown",
   "metadata": {
    "collapsed": true
   },
   "source": [
    "/*MB length of each album*/\n",
    "select track.AlbumId, sum(track.Bytes)/(power(10,6)) as mb_length_by_album from track group by track.AlbumId \n",
    "\n",
    "/*TKTK unsure how to join album name*/\n",
    "\n",
    "***\n",
    "\n",
    "/*average pop song byte size*/\n",
    "select avg(bytes) from track where GenreId=9\n",
    "\n",
    "***\n",
    "\n",
    "/*range, avg duration of heavy metal song in minutes*/\n",
    "select (MAX(length_in_min) - MIN(length_in_min)) as duration_range, avg(length_in_min)\n",
    "from(select track.TrackId, track.Milliseconds/60000 as length_in_min from track \n",
    "where track.GenreId= 13)"
   ]
  },
  {
   "cell_type": "markdown",
   "metadata": {},
   "source": [
    "## 2. Customer Data\n",
    "---\n",
    "We will be using the following tables from DBeaver:\n",
    "• Customer • Invoice • InvoiceLine • Album • Artist • Genre • Track • PlaylistTrack • MediaType"
   ]
  },
  {
   "cell_type": "markdown",
   "metadata": {},
   "source": [
    "## Problems (40 points)\n",
    "---"
   ]
  },
  {
   "cell_type": "markdown",
   "metadata": {},
   "source": [
    "#### A. (5 points). Output a table that shows the number of customers in each city, and also have shows the state and country that the city is located in.\n",
    "---"
   ]
  },
  {
   "cell_type": "markdown",
   "metadata": {
    "collapsed": true
   },
   "source": [
    "select count(customer.CustomerId) as ct_customers, customer.city, customer.state, customer.country \n",
    "from customer \n",
    "group by customer.city"
   ]
  },
  {
   "cell_type": "markdown",
   "metadata": {},
   "source": [
    "#### B. (10 points). How much in total was spent on music per year? What is the average amount a person spent on music in a year? What is the average amount a person with a gmail account spent on music in a year?\n",
    "---"
   ]
  },
  {
   "cell_type": "markdown",
   "metadata": {
    "collapsed": true
   },
   "source": [
    "TKTK unclear about 'in a year' language\n",
    "\n",
    "select sum(total) as sum_2007 \n",
    "from Invoice \n",
    "where invoicedate like '%2007%'\n",
    "\n",
    "***\n",
    "\n",
    "select invoice.customerid, customer.email, sum(invoice.total) \n",
    "from invoice \n",
    "join customer on invoice.CustomerId=customer.CustomerId \n",
    "group by invoice.CustomerId\n",
    "\n",
    "select sum(sum_per_cust)/count(customerid) as avg_spent_per_person from (select invoice.customerid, customer.email, sum(invoice.total) as sum_per_cust \n",
    "from invoice \n",
    "join customer on invoice.CustomerId=customer.CustomerId \n",
    "group by invoice.CustomerId)"
   ]
  },
  {
   "cell_type": "markdown",
   "metadata": {},
   "source": [
    "#### C. (10 points). What year-month combination had the most spending on music? Which year-month combi- nation had the most money spent on pop music?\n",
    "---"
   ]
  },
  {
   "cell_type": "markdown",
   "metadata": {
    "collapsed": true
   },
   "source": []
  },
  {
   "cell_type": "markdown",
   "metadata": {},
   "source": [
    "#### D. (10 points). What genre has the most songs bought that are in the pop genre? What is the total money spent on these songs? Which customer is spending the most on pop songs?\n",
    "---"
   ]
  },
  {
   "cell_type": "markdown",
   "metadata": {
    "collapsed": true
   },
   "source": [
    "TKTK wording?\n"
   ]
  },
  {
   "cell_type": "markdown",
   "metadata": {},
   "source": [
    "#### E. (10 points). Output how many songs each artist is selling in each country? Who is selling the post outside of the US? On average, how many songs is each artist selling outside of the US?\n",
    "---"
   ]
  },
  {
   "cell_type": "markdown",
   "metadata": {
    "collapsed": true
   },
   "source": []
  },
  {
   "cell_type": "markdown",
   "metadata": {},
   "source": [
    "## 3. Window Functions (20 points)\n",
    "---"
   ]
  },
  {
   "cell_type": "markdown",
   "metadata": {},
   "source": [
    "#### A. (10 points). Return a list of Customers that assigns a sequential integer to each customer and resets the number when the country of the customer changes for Customers are not from Canada and Brazil and whose email address have `yahoo` or `gmail'\n",
    "---"
   ]
  },
  {
   "cell_type": "markdown",
   "metadata": {
    "collapsed": true
   },
   "source": []
  },
  {
   "cell_type": "markdown",
   "metadata": {},
   "source": [
    "#### B. (10 points). Compute the rank for each track in each album based on the track’s length, then append all the tracks that have a lengthrank of 2 and 4 \n",
    "---"
   ]
  },
  {
   "cell_type": "markdown",
   "metadata": {
    "collapsed": true
   },
   "source": []
  },
  {
   "cell_type": "markdown",
   "metadata": {},
   "source": [
    "## BONUS (20 points)\n",
    "---\n",
    "- Using SQLITE syntax [make your own SQLITE table](https://www.sqlitetutorial.net/sqlite-create-table/) and set of data. You will need to create a table of 5 columns and 10 rows containing any information you find interesting. (5 points)\n",
    "- You should create/import your table need to [dbeaver](https://docs.roguewave.com/en/zendstudio/current/content/create_manage_database_with_dbeaver.htm). (5 points)\n",
    "- Perform 3 different calculations using your data in order to tell a story of your data set. (10 points)\n",
    "\n",
    "** FEEL FREE TO USE/EXPLORE OTHER SOURCES**"
   ]
  },
  {
   "cell_type": "code",
   "execution_count": null,
   "metadata": {
    "collapsed": true
   },
   "outputs": [],
   "source": []
  }
 ],
 "metadata": {
  "kernelspec": {
   "display_name": "Python 3",
   "language": "python",
   "name": "python3"
  },
  "language_info": {
   "codemirror_mode": {
    "name": "ipython",
    "version": 3
   },
   "file_extension": ".py",
   "mimetype": "text/x-python",
   "name": "python",
   "nbconvert_exporter": "python",
   "pygments_lexer": "ipython3",
   "version": "3.7.0"
  }
 },
 "nbformat": 4,
 "nbformat_minor": 2
}
