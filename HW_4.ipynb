{
 "cells": [
  {
   "cell_type": "markdown",
   "metadata": {},
   "source": [
    "<img src=\"https://images.efollett.com/htmlroot/images/templates/storeLogos/CA/864.gif\" style=\"float: right;\"> \n",
    "\n",
    "\n",
    "\n",
    "\n",
    "# ECON611\n",
    "### HW_4 -  SQL\n",
    "#### Due: Nov 18\n",
    "\n",
    "We will be using the sample databases that come from the DBeaver program (use the Database Installation guide to assist you on installing it). We will be using the sample tables that are provided there. Save your work as a SQL script with answers to specific questions commented out properly labled."
   ]
  },
  {
   "cell_type": "markdown",
   "metadata": {},
   "source": [
    "## 1. Music and Album Data\n",
    "---\n",
    "We will be using the following tables from DBeaver:\n",
    "• Album • Artist • Genre • Track • PlaylistTrack • MediaType"
   ]
  },
  {
   "cell_type": "markdown",
   "metadata": {},
   "source": [
    "## Problems (40 points)\n",
    "---"
   ]
  },
  {
   "cell_type": "markdown",
   "metadata": {},
   "source": [
    "#### A. (5 points). Output a table that has the columns Album Title, Artist, Track Name, Genre, Composer, Length of Song (minutes) \n",
    "---"
   ]
  },
  {
   "cell_type": "markdown",
   "metadata": {
    "collapsed": true
   },
   "source": [
    "\n",
    "select \n",
    "album.Title as Album_Title, \n",
    "artist.Name as Artist, \n",
    "track.name as Track_Name, \n",
    "genre.name as Genre, \n",
    "track.Composer as Composer,\n",
    "track.Milliseconds/(1000*60) as Length_in_Minutes\n",
    "from album \n",
    "join artist on album.artistid = artist.artistid\n",
    "join track on track.albumid = album.AlbumId\n",
    "join genre on genre.GenreId = track.GenreId\n",
    "\n",
    "/%reference: https://javarevisited.blogspot.com/2012/11/how-to-join-three-tables-in-sql-query-mysql-sqlserver.html %/\n"
   ]
  },
  {
   "cell_type": "markdown",
   "metadata": {},
   "source": [
    "# B. (5 points). Output a frequency table for how many letters are in an album title and a song title. (i.e. 3 columns: number of letters, number of album titles with that amount of letters, number of song titles with that amount of letters). What is the average and range of amount of letters?\n",
    "---"
   ]
  },
  {
   "cell_type": "markdown",
   "metadata": {
    "collapsed": true
   },
   "source": [
    "select x.charct, x.hist as album_hist, y.hist as track_hist\n",
    "from\n",
    "(\n",
    "select charct, count(charct) as hist from \n",
    "(select album.title, length(album.Title) as charct from album) group by charct\n",
    ") as x\n",
    "left JOIN\n",
    "(\n",
    "select charct, count(charct) as hist from \n",
    "(select track.Name, length(track.Name) as charct from track) group by charct\n",
    ") as y\n",
    "on x.charct = y.charct\n",
    "/*where charct = number of characters\n",
    "album_hist = count of albums with charct\n",
    "track_hist = count of tracks with charct*/\n",
    "\n",
    "/*TKTK: unsure how to capture NULLS for both album and track; i.e. 0 albums may have x characters, 0 tracks may have y characters*/\n",
    "/*reference: https://www.essentialsql.com/get-ready-to-learn-sql-server-22-using-subqueries-in-the-from-clause/ \n",
    "https://www.geeksengine.com/database/subquery/subquery-in-join-operation.php */"
   ]
  },
  {
   "cell_type": "markdown",
   "metadata": {},
   "source": [
    "#### C. (10 points). How many songs did each composer write? How many artists composed their own music? Output all of the Artists who had songs that were longer than 2.5 minutes and they did not write their own songs.\n",
    "---"
   ]
  },
  {
   "cell_type": "markdown",
   "metadata": {},
   "source": [
    "/*songs written per composer*/\n",
    "select track.Composer, count(track.Composer)\n",
    "from Track group by track.Composer"
   ]
  },
  {
   "cell_type": "markdown",
   "metadata": {},
   "source": [
    "/*count of self-written artists*/\n",
    "select count (DISTINCT composer) as 'Count of self-composed artists:' from (select track.TrackId, track.composer, artist.Name\n",
    "from track join album on track.AlbumId = album.AlbumId\n",
    "join artist on album.ArtistId = artist.ArtistId\n",
    "where track.composer is artist.name) "
   ]
  },
  {
   "cell_type": "markdown",
   "metadata": {
    "collapsed": true
   },
   "source": [
    "/*artists with songs longer than 2.5min, not self-written*/\n",
    "select distinct name from (select track.TrackId, track.composer, track.milliseconds/(1000) as time_in_sec, artist.Name\n",
    "from track join album on track.AlbumId = album.AlbumId\n",
    "join artist on album.ArtistId = artist.ArtistId\n",
    "where track.composer is not artist.name\n",
    "and time_in_sec > 150)"
   ]
  },
  {
   "cell_type": "markdown",
   "metadata": {},
   "source": [
    "#### D. (10 points). How many albums contain songs that only have an even number of seconds in the length of the song and the songs are all MPEG audio files?\n",
    "---"
   ]
  },
  {
   "cell_type": "markdown",
   "metadata": {
    "collapsed": true
   },
   "source": [
    "select count (distinct albumid) from (select track.albumid, track.milliseconds/1000 as length_in_seconds, track.MediaTypeId from track\n",
    "where (length_in_seconds%2)=0\n",
    "and MediaTypeId=1)"
   ]
  },
  {
   "cell_type": "markdown",
   "metadata": {},
   "source": [
    "#### E. (10 points). How large, in terms of Megabytes are each album? On average, how large, in terms of bytes, is a pop song? What is the range and average duration of a heavy metal song in minutes?\n",
    "---"
   ]
  },
  {
   "cell_type": "markdown",
   "metadata": {},
   "source": [
    "/*mb size of each album */\n",
    "select y.album_name, x.mb_length_by_album\n",
    "from \n",
    "\t(select track.albumid as album_id, sum(track.Bytes)/(power(10,6)) as mb_length_by_album \n",
    "\tfrom track group by track.AlbumId) as x\n",
    "left JOIN\n",
    "\t(select album.AlbumId as album_id, album.Title as album_name from album) as y\n",
    "on x.album_id = y.album_id"
   ]
  },
  {
   "cell_type": "markdown",
   "metadata": {},
   "source": [
    "/*average pop song byte size*/\n",
    "select avg(bytes) from track where GenreId=9"
   ]
  },
  {
   "cell_type": "markdown",
   "metadata": {
    "collapsed": true
   },
   "source": [
    "/*range, avg duration of heavy metal song in minutes*/\n",
    "select (MAX(length_in_min) - MIN(length_in_min)) as duration_range, avg(length_in_min)\n",
    "from(select track.TrackId, track.Milliseconds/60000 as length_in_min from track \n",
    "where track.GenreId= 13)"
   ]
  },
  {
   "cell_type": "markdown",
   "metadata": {},
   "source": [
    "## 2. Customer Data\n",
    "---\n",
    "We will be using the following tables from DBeaver:\n",
    "• Customer • Invoice • InvoiceLine • Album • Artist • Genre • Track • PlaylistTrack • MediaType"
   ]
  },
  {
   "cell_type": "markdown",
   "metadata": {},
   "source": [
    "## Problems (40 points)\n",
    "---"
   ]
  },
  {
   "cell_type": "markdown",
   "metadata": {},
   "source": [
    "#### A. (5 points). Output a table that shows the number of customers in each city, and also have shows the state and country that the city is located in.\n",
    "---"
   ]
  },
  {
   "cell_type": "markdown",
   "metadata": {
    "collapsed": true
   },
   "source": [
    "select count(customer.CustomerId) as ct_customers, customer.city, customer.state, customer.country \n",
    "from customer \n",
    "group by customer.city"
   ]
  },
  {
   "cell_type": "markdown",
   "metadata": {},
   "source": [
    "## B. (10 points). How much in total was spent on music per year? What is the average amount a person spent on music in a year? What is the average amount a person with a gmail account spent on music in a year?\n",
    "---"
   ]
  },
  {
   "cell_type": "markdown",
   "metadata": {},
   "source": [
    "/*INCOMPLETE*/\n",
    "/*the following returns sales from 2007*/\n",
    "select sum(total) as sum_2007 \n",
    "from Invoice \n",
    "where invoicedate like '%2007%'\n",
    "/*reference: https://sqlhints.com/tag/sql-group-by-year/ */"
   ]
  },
  {
   "cell_type": "markdown",
   "metadata": {},
   "source": [
    "/*Average spent per person in a year*/\n",
    "select sum(sum_per_cust)/count(customerid)/4 as avg_per_person_per_year \n",
    "from (select invoice.customerid, customer.email, sum(invoice.total) as sum_per_cust \n",
    "from invoice \n",
    "join customer on invoice.CustomerId=customer.CustomerId \n",
    "group by invoice.CustomerId)"
   ]
  },
  {
   "cell_type": "markdown",
   "metadata": {},
   "source": [
    "#### C. (10 points). What year-month combination had the most spending on music? Which year-month combi- nation had the most money spent on pop music?\n",
    "---"
   ]
  },
  {
   "cell_type": "markdown",
   "metadata": {
    "collapsed": true
   },
   "source": [
    "/*Incomplete*/"
   ]
  },
  {
   "cell_type": "markdown",
   "metadata": {},
   "source": [
    "#### D. (10 points). What artist has the most songs bought that are in the pop genre? What is the total money spent on these songs? Which customer is spending the most on pop songs?\n",
    "---"
   ]
  },
  {
   "cell_type": "markdown",
   "metadata": {
    "collapsed": true
   },
   "source": [
    "/*artist with most pop songs bought*/\n",
    "select max(sales) as highest_pop_sales, name as highest_pop_artist from (\n",
    "select count(ArtistId) as sales, name from (\n",
    "select track.trackid, album.artistid, artist.name, invoiceline.Quantity\n",
    "from album \n",
    "join invoiceline on invoiceline.TrackId=track.TrackId\n",
    "join artist on artist.ArtistId = album.artistid\n",
    "join track on track.albumid = album.albumid where track.genreid=9) group by name) "
   ]
  },
  {
   "cell_type": "markdown",
   "metadata": {},
   "source": [
    "/*total money spent on that artist's (U2) songs*/\n",
    "select round(sum(quantity*UnitPrice), 2) as revenue \n",
    "from (\n",
    "select track.trackid, invoiceline.Quantity, invoiceline.UnitPrice from track\n",
    "join invoiceline on track.trackid = invoiceline.TrackId\n",
    "join album on track.albumid = album.AlbumId\n",
    "where album.ArtistId=150)"
   ]
  },
  {
   "cell_type": "markdown",
   "metadata": {},
   "source": [
    "/*highest pop song customer*/\n",
    "select max(total) as highest_pop_spending, customerid, firstname, lastname from (select invoice.customerid, customer.FirstName, customer.LastName, invoice.total\n",
    "from invoiceline\n",
    "join track on track.trackid = invoiceline.TrackId\n",
    "join invoice \n",
    "join customer on customer.CustomerId=invoice.CustomerId\n",
    "where track.GenreId = 9\n",
    "group by invoice.CustomerId) "
   ]
  },
  {
   "cell_type": "markdown",
   "metadata": {},
   "source": [
    "#### E. (10 points). Output how many songs each artist is selling in each country? Who is selling the post outside of the US? On average, how many songs is each artist selling outside of the US?\n",
    "---"
   ]
  },
  {
   "cell_type": "markdown",
   "metadata": {
    "collapsed": true
   },
   "source": [
    "/*INCOMPLETE*/\n",
    "\n",
    "/*the following shows number of songs bought per country*/\n",
    "select sum(invoiceline.Quantity), invoice.BillingCountry\n",
    "from invoiceline join invoice on invoiceline.InvoiceId = invoice.InvoiceId\n",
    "group by invoice.BillingCountry\n"
   ]
  },
  {
   "cell_type": "markdown",
   "metadata": {},
   "source": []
  },
  {
   "cell_type": "markdown",
   "metadata": {},
   "source": []
  },
  {
   "cell_type": "markdown",
   "metadata": {},
   "source": [
    "## 3. Window Functions (20 points)\n",
    "---"
   ]
  },
  {
   "cell_type": "markdown",
   "metadata": {},
   "source": [
    "#### A. (10 points). Return a list of Customers that assigns a sequential integer to each customer and resets the number when the country of the customer changes for Customers are not from Canada and Brazil and whose email address have `yahoo` or `gmail'\n",
    "---"
   ]
  },
  {
   "cell_type": "markdown",
   "metadata": {
    "collapsed": true
   },
   "source": []
  },
  {
   "cell_type": "markdown",
   "metadata": {},
   "source": [
    "#### B. (10 points). Compute the rank for each track in each album based on the track’s length, then append all the tracks that have a lengthrank of 2 and 4 \n",
    "---"
   ]
  },
  {
   "cell_type": "markdown",
   "metadata": {
    "collapsed": true
   },
   "source": [
    "select * from (SELECT\n",
    "\talbumid,\n",
    "\tname,\n",
    "\tmilliseconds,\n",
    "\tDENSE_RANK () over(\n",
    "\t\tPARTITION by albumid\n",
    "\t\torder by milliseconds) as lengthrank\n",
    "from track) where lengthrank=4 or lengthrank=2"
   ]
  },
  {
   "cell_type": "markdown",
   "metadata": {},
   "source": [
    "## BONUS (20 points)\n",
    "---\n",
    "- Using SQLITE syntax [make your own SQLITE table](https://www.sqlitetutorial.net/sqlite-create-table/) and set of data. You will need to create a table of 5 columns and 10 rows containing any information you find interesting. (5 points)\n",
    "- You should create/import your table need to [dbeaver](https://docs.roguewave.com/en/zendstudio/current/content/create_manage_database_with_dbeaver.htm). (5 points)\n",
    "- Perform 3 different calculations using your data in order to tell a story of your data set. (10 points)\n",
    "\n",
    "** FEEL FREE TO USE/EXPLORE OTHER SOURCES**"
   ]
  },
  {
   "cell_type": "code",
   "execution_count": null,
   "metadata": {
    "collapsed": true
   },
   "outputs": [],
   "source": []
  }
 ],
 "metadata": {
  "kernelspec": {
   "display_name": "Python 3",
   "language": "python",
   "name": "python3"
  },
  "language_info": {
   "codemirror_mode": {
    "name": "ipython",
    "version": 3
   },
   "file_extension": ".py",
   "mimetype": "text/x-python",
   "name": "python",
   "nbconvert_exporter": "python",
   "pygments_lexer": "ipython3",
   "version": "3.7.0"
  }
 },
 "nbformat": 4,
 "nbformat_minor": 2
}
