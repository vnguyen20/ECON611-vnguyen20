{
 "cells": [
  {
   "cell_type": "markdown",
   "metadata": {},
   "source": [
    "<img src=\"https://images.efollett.com/htmlroot/images/templates/storeLogos/CA/864.gif\" style=\"float: right;\"> \n",
    "\n",
    "\n",
    "\n",
    "\n",
    "# ECON611\n",
    "### HW_1 -  Python "
   ]
  },
  {
   "cell_type": "code",
   "execution_count": 2,
   "metadata": {
    "collapsed": true
   },
   "outputs": [],
   "source": [
    "# Packages you can use. DO NOT USE ANY OTHER PACKAGE BESIDES THESE\n",
    "import json\n",
    "import re"
   ]
  },
  {
   "cell_type": "markdown",
   "metadata": {},
   "source": [
    "# Homework 1\n",
    "\n",
    "This homework will help you practice working with loops and strings. Both are fundamental for computer science, so please make sure to ask Javi/Stephen/Lilla if you have any questions. If you don't understand these concepts, the class will be very difficult because you will see them in all following homeworks.\n",
    "  \n",
    "  \n",
    "Unless explicitly stated, you can use whatever you want to answer the question"
   ]
  },
  {
   "cell_type": "markdown",
   "metadata": {},
   "source": [
    "## Warm-up"
   ]
  },
  {
   "cell_type": "markdown",
   "metadata": {},
   "source": [
    "#### 1. Reverse the string \"Hello world\" \n",
    "<span style=\"color:red\">10/10</span>  "
   ]
  },
  {
   "cell_type": "code",
   "execution_count": 95,
   "metadata": {},
   "outputs": [
    {
     "data": {
      "text/plain": [
       "'dlrow olleH'"
      ]
     },
     "execution_count": 95,
     "metadata": {},
     "output_type": "execute_result"
    }
   ],
   "source": [
    "inp = 'Hello world'\n",
    "inp[::-1]\n",
    "#[::-1] takes original inp string from start to finish, then -1 reverses order to read from finish to start\n",
    "#source: https://www.geeksforgeeks.org/reverse-string-python-5-different-ways/"
   ]
  },
  {
   "cell_type": "markdown",
   "metadata": {},
   "source": [
    "#### 2. Given the list below, create a new list that has each string repeated 6 times  \n",
    "<span style=\"color:red\">8/10. See the sample output</span>  \n",
    "Ex. ['a', 'Hello'] -> ['aaaaaa', 'HelloHelloHelloHelloHelloHello']"
   ]
  },
  {
   "cell_type": "code",
   "execution_count": 98,
   "metadata": {},
   "outputs": [
    {
     "name": "stdout",
     "output_type": "stream",
     "text": [
      "Hello world Hello world Hello world Hello world Hello world Hello world ECON 611 ECON 611 ECON 611 ECON 611 ECON 611 ECON 611 abc abc abc abc abc abc def def def def def def\n"
     ]
    }
   ],
   "source": [
    "inp = ['Hello world', 'ECON 611', 'abc', 'def']\n",
    "n = 6\n",
    "new = [item for item in inp for i in range(n)]\n",
    "new = \" \".join(new)\n",
    "print(new)\n",
    "#source: user AJ Uppal https://stackoverflow.com/questions/24225072/repeating-elements-of-a-list-n-times/24225187"
   ]
  },
  {
   "cell_type": "markdown",
   "metadata": {},
   "source": [
    "\n",
    "#### 3. Find the first and last vowel of each word in a sentence (ignore y)\n",
    "<span style=\"color:red\">3/10. First step is to split the sentence by word using ```inp.split()``` and then find first and last vowel</span>  \n",
    "Input: My dog is extremely beautiful  \n",
    "output: [(None, None), (o, o), (e, e), (e, u)]"
   ]
  },
  {
   "cell_type": "code",
   "execution_count": 90,
   "metadata": {},
   "outputs": [
    {
     "name": "stdout",
     "output_type": "stream",
     "text": [
      "vowel output: oieeeeauiu\n"
     ]
    }
   ],
   "source": [
    "inp = \"My dog is extremely beautiful\"\n",
    "r = [i for i in inp if i in 'aeiou']  \n",
    "r = \"\".join(r)\n",
    "if r:\n",
    "   print(\"vowel output:\", r)\n",
    "else:\n",
    "   print(\"empty\")\n",
    "    #unsure how to specify vowel content word by word\n",
    "#source: user Jim Hilliard https://stackoverflow.com/questions/39426149/print-only-vowels-in-a-string"
   ]
  },
  {
   "cell_type": "markdown",
   "metadata": {},
   "source": [
    "#### 4. Remove repeated characters from a string (don't worry about case)\n",
    "<span style=\"color:red\">3/10. ```</span>  \n",
    "Input: \"Eeeecconooomiicssss\"  \n",
    "Output: \"Economics\""
   ]
  },
  {
   "cell_type": "code",
   "execution_count": 87,
   "metadata": {},
   "outputs": [
    {
     "name": "stdout",
     "output_type": "stream",
     "text": [
      "Eeconmis\n"
     ]
    }
   ],
   "source": [
    "inp = \"Eeeecconooomiicssss\"\n",
    "seen = set()\n",
    "result = []\n",
    "for c in inp:\n",
    "    if c not in seen:\n",
    "        result.append(c)\n",
    "        seen.add(c)\n",
    "result = \"\".join(result)\n",
    "print(result)\n",
    "    #unsure how to treat capital and lowercase E equally\n",
    "    #unsure how to get rid of consecutively repeated characters only, not all additional instances of a character (ex. mising the second C in economics)\n",
    "#source: user Kevin Coffey https://stackoverflow.com/questions/9841303/removing-duplicate-characters-from-a-string"
   ]
  },
  {
   "cell_type": "markdown",
   "metadata": {},
   "source": [
    "## Problem 1\n",
    "### Data\n",
    "In this problem, you will be working with raw html files of the webpages for the child welfare program in the nber working paper series ([example](https://www.nber.org/papers/w26242)).\n",
    "\n",
    "### Basic information about html\n",
    "Html documents have tags listed in &lt;> that identify information about the content the tag refers to.  \n",
    "There are two different types of tags:  \n",
    "1. <b>Start and end tag</b>. There is a tag that signifies the start and a tag that indicates the end. \n",
    "For example,  \n",
    "&lt;title>  \n",
    "   Fathers' Multiple-Partner Fertility and Children's Educational Outcomes  \n",
    "&lt;/title>  \n",
    "The end tag is always &lt;/[NAME OF TAG]>, while the start tag might have information after the tag (&lt;p style=\"margin-left: 40px; margin-right: 40px; text-align: justify\"> is a head tag with name p)  \n",
    "  \n",
    "2. <b>In-place tags</b>. These are tags that open and close itself. For example, &lt;meta content=\"Donna K. Ginther\" name=\"keyword\"/>. The /> at the end signifies closing the tag.\n",
    "\n",
    "Refer to the example below to see what an html file looks like."
   ]
  },
  {
   "cell_type": "code",
   "execution_count": 6,
   "metadata": {
    "collapsed": true
   },
   "outputs": [],
   "source": [
    "# loads the raw html files for your hw.\n",
    "# The data format is a list of strings, where each string is the webpage \n",
    "with open('../datasets/nber.json') as f:\n",
    "    data = json.load(f)"
   ]
  },
  {
   "cell_type": "code",
   "execution_count": 11,
   "metadata": {
    "scrolled": true
   },
   "outputs": [
    {
     "name": "stdout",
     "output_type": "stream",
     "text": [
      "<!DOCTYPE html PUBLIC \"-//W3C//DTD HTML 4.01 Transitional//EN\"  \"http://www.w3.org/TR/html4/loose.dtd\">\n",
      "<html prefix=\"og: http://ogp.me/ns#\">\n",
      " <head>\n",
      "  <title>\n",
      "   Fathers' Multiple-Partner Fertility and Children's Educational Outcomes\n",
      "  </title>\n",
      "  <meta content=\"text/html; charset=utf-8\" http-equiv=\"Content-Type\"/>\n",
      "  <meta content=\"Fathers' Multiple-Partner Fertility and Children’s Educational Outcomes\" name=\"citation_title\"/>\n",
      "  <meta content=\"Donna K. Ginther\" name=\"keyword\"/>\n",
      "  <meta content=\"Astrid L. Grasdal\" name=\"keyword\"/>\n",
      "  <meta content=\"Robert A. Pollak\" name=\"keyword\"/>\n",
      "  <meta content=\"Ginther, Donna K\" name=\"citation_author\"/>\n",
      "  <meta content=\"Grasdal, Astrid L\" name=\"citation_author\"/>\n",
      "  <meta content=\"Pollak, Robert A\" name=\"citation_author\"/>\n",
      "  <meta content=\"2019-09-05\" name=\"DC.Date\"/>\n",
      "  <meta content=\"2019-09-05\" name=\"citation_date\"/>\n",
      "  <meta content=\"2019/09/05\" name=\"citation_publication_date\"/>\n",
      "  <meta content=\"NBER\" property=\"og:site_name\"/>\n",
      "  <meta content=\"https://www.nber.org/papers/w26242\" property=\"og:URL\"/>\n",
      "  <meta content=\"National Bureau of Economic Research\" name=\"citation_technical_report_institution\"/>\n",
      "  <meta content=\"w26242\" name=\"citation_technical_report_number\"/>\n",
      "  <meta content=\"article\" property=\"og:type\"/>\n",
      "  <meta content=\"National Bureau of Economic Research Working Paper Series\" name=\"citation_journal_title\"/>\n",
      "  <meta content=\"0898-2937\" name=\"citation_journal_issn\"/>\n",
      "  <meta content=\"2019-09-05\" name=\"google_sort_date\"/>\n",
      "  <meta content=\"https://www.nber.org/papers/w26242.pdf\" name=\"citation_pdf_url\"/>\n",
      "  <script type=\"text/javascript\">\n",
      "   var djConfig = {\r\n",
      "            parseOnLoad: true,\r\n",
      "            isDebug: false\r\n",
      "        };\n",
      "  </script>\n",
      "  <script src=\"/2009_redesign/dojo-1.3/dojo/dojo.js\" type=\"text/javascript\">\n",
      "  </script>\n",
      "  <link href=\"/2009_redesign/dojo-1.3/dijit/themes/tundra/tundra.css\" rel=\"stylesheet\"/>\n",
      "  <link href=\"/2009_redesign/2009.css\" rel=\"stylesheet\" type=\"text/css\"/>\n",
      "  <link href=\"/img_2009/NBER_logo_20\n"
     ]
    }
   ],
   "source": [
    "print(data[0][0:2000]) # example of data"
   ]
  },
  {
   "cell_type": "markdown",
   "metadata": {},
   "source": [
    "#### 1.\n",
    "Extract the  \n",
    "<b>i)   Title</b>   \n",
    "This can be found between &lt;title> and &lt;/title>, e.g.  \n",
    "&lt;title>Child Access Prevention Laws and Juvenile Firearm-Related Homicides&lt;/title>  \n",
    "  \n",
    "<b>ii)  Date of publication</b>  \n",
    "This can be found in the content section of a &lt;meta> tag when the name section is citation_author, e.g.  \n",
    "&lt;meta content=\"2019-09-05\" name=\"citation_date\"/>\n",
    "  \n",
    "<b>iii) Authors (return this as a list of lists, where each sub-list is the list of authors for that paper)</b>  \n",
    "This can be found in the content section of a &lt;meta> tag when the name section is citation_author, e.g.  \n",
    "&lt;meta content=\"Ginther, Donna K\" name=\"citation_author\"/>  \n",
    "  \n",
    "<b>iv) Abstract </b>  \n",
    "The head tag for this is &lt;p style=\"margin-left: 40px; margin-right: 40px; text-align: justify\">\n",
    "\n",
    "<b>Example</b>  \n",
    "If I had the texts from the following two papers [1](https://www.nber.org/papers/w26242) [2](https://www.nber.org/papers/w26238), my outputs would be:  \n",
    "  \n",
    "i)   [\"Fathers' Multiple-Partner Fertility and Children's Educational Outcomes\",  \n",
    "      \"Changes in Family Structure and Welfare Participation Since the 1960s: The Role of Legal Services\"]    \n",
    "  \n",
    "ii)  [\"2019-09-05\", \"2019-09-05\"]    \n",
    "  \n",
    "iii) [[\"Ginther, Donna K\", \"Grasdal, Astrid L\", \"Pollak, Robert A\"],  \n",
    "      [\"Goodman-Bacon, Andrew\", \"Cunningham, Jamein P\"]]"
   ]
  },
  {
   "cell_type": "code",
   "execution_count": 77,
   "metadata": {},
   "outputs": [
    {
     "name": "stdout",
     "output_type": "stream",
     "text": [
      "TITLE: Fathers\\' Multiple-Partner Fertility and Children\\'s Educational Outcomes\n",
      "PUBLICATION DATE: 2019/09/05\n",
      "AUTHORS: ['Ginther, Donna K', 'Grasdal, Astrid L', 'Pollak, Robert A']\n",
      "ABSTRACT: We find substantial and statistically significant detrimental effects of fathers\\' multiple-partner fertility (MPF) on children\\'s educational outcomes. We focus on children in fathers’ “second families” when the second families are nuclear families – households consisting of a man, a woman, their joint children, and no other children.  We analyze outcomes for almost 75,000 Norwegian children, all of whom, until they were at least age 18, lived in nuclear families. Controlling for a rich set of socio-economic variables, we find that children who spent their entire childhoods in nuclear families but whose fathers had children from a previous relationship living elsewhere were 4 percentage points more likely to drop out of secondary school and 5 percentage points less likely to obtain a bachelor\\'s degree than children in nuclear families without fathers’ MPF. Resource competition due to economic and caregiving responsibilities for children living elsewhere does not explain the differences in educational outcomes. We do find that children in nuclear families whose fathers had previous childless marriages have educational outcomes that are similar to those of fathers with MPF. Our analysis suggests that the effects of fathers\\' MPF are primarily due to selection.\n"
     ]
    }
   ],
   "source": [
    "import json\n",
    "import re\n",
    "with open('/Users/Nikki/desktop/econ611/econ611/database/nber.json') as f:\n",
    "    data = json.load(f)\n",
    "data = str(data)\n",
    "    #reassigns data variable as a string of data's contents\n",
    "\n",
    "title = re.findall('<title>(.*?)</title>', data)[0]\n",
    "    #defines a variable to find the content between the <title> html tags. [0] indicates non-greedy mode. In non-greedy mode, the program finds the shortest match\n",
    "print(\"TITLE:\", title)\n",
    "\n",
    "date = re.findall('<meta name=\\\"citation_publication_date\\\" content=\\\"(.*?)\\\">', data)[0]\n",
    "print(\"PUBLICATION DATE:\", date)\n",
    "\n",
    "authors = re.findall('<meta name=\\\"citation_author\\\" content=\"(.*?)\\\">', data)[0:3]\n",
    "    #too many authors returned without the [0:3] restriction. [0:3] refers to the 3 main authors featured on cover of paper. \n",
    "print(\"AUTHORS:\",authors)\n",
    "\n",
    "abstract = re.findall('<p style=\\\"margin-left: 40px; margin-right: 40px; text-align: justify\\\">(.*?)</p>', data)[0]\n",
    "print(\"ABSTRACT:\",abstract[2:1282])\n",
    "    #For some reason, print(\"Abstract:\", match_abstract) was including \\n newlines at the beginning and end of the abstract paragraph. I used print(len(match_abstract)) to manually count and exclude the 3 characters at beginning and end of abstract.\n",
    "\n",
    "\n"
   ]
  },
  {
   "cell_type": "code",
   "execution_count": null,
   "metadata": {},
   "outputs": [],
   "source": []
  },
  {
   "cell_type": "code",
   "execution_count": null,
   "metadata": {},
   "outputs": [],
   "source": []
  },
  {
   "cell_type": "code",
   "execution_count": null,
   "metadata": {},
   "outputs": [],
   "source": []
  },
  {
   "cell_type": "code",
   "execution_count": null,
   "metadata": {},
   "outputs": [],
   "source": []
  },
  {
   "cell_type": "code",
   "execution_count": null,
   "metadata": {},
   "outputs": [],
   "source": []
  }
 ],
 "metadata": {
  "kernelspec": {
   "display_name": "Python 3",
   "language": "python",
   "name": "python3"
  },
  "language_info": {
   "codemirror_mode": {
    "name": "ipython",
    "version": 3
   },
   "file_extension": ".py",
   "mimetype": "text/x-python",
   "name": "python",
   "nbconvert_exporter": "python",
   "pygments_lexer": "ipython3",
   "version": "3.7.4"
  }
 },
 "nbformat": 4,
 "nbformat_minor": 2
}
