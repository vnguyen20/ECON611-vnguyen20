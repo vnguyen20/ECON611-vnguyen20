{
 "cells": [
  {
   "cell_type": "markdown",
   "metadata": {},
   "source": [
    "<img src=\"https://images.efollett.com/htmlroot/images/templates/storeLogos/CA/864.gif\" style=\"float: right;\"> \n",
    "\n",
    "\n",
    "\n",
    "\n",
    "# ECON611\n",
    "### HW_3 -  Python: Sets and Dictionaries\n",
    "#### Due: Oct 7"
   ]
  },
  {
   "cell_type": "code",
   "execution_count": 29,
   "metadata": {},
   "outputs": [],
   "source": [
    "import json\n",
    "import sys\n",
    "sys.path.append('..')\n",
    "from util_python.gen_hw_3 import load_data\n",
    "import json\n",
    "import pandas as pd\n",
    "def load_data():\n",
    "    df = pd.read_csv('/Users/Nikki/desktop/econ611-vnguyen20/econ611/database/AB_NYC_2019.csv')\n",
    "    df = df[['id', 'host_id', 'neighbourhood_group', 'neighbourhood', 'price', \n",
    "         'minimum_nights', 'room_type']]\n",
    "    df.set_index('id', inplace=True)\n",
    "    return json.loads(df.to_json(orient='index'))\n",
    "data = load_data()"
   ]
  },
  {
   "cell_type": "markdown",
   "metadata": {},
   "source": [
    "### Warm-up (40 points)\n",
    "NOTE: the inp I give is just an example input. Your code should still work if we change the input\n",
    "\n",
    "#### 1.\n",
    "Explain what we we use each of the following for:  \n",
    "a. lists  \n",
    "  Lists are used to store values or strings. Lists are ordered and mutable, and objects in a list are accessed by their index number. \n",
    "b. dictionaries  \n",
    "  Dictionaries are unordered and are compound-type, meaning they map keys to values. Values in a dictionary may take the form of lists, strings, tuples, or another dictionary. Dictionaries are used to store large sets of information, in instances where lists would be too arduous to navigate and process. Values are accessed by their keys, not by index number. \n",
    "c. sets  \n",
    "  Sets are used to store unordered unique values. "
   ]
  },
  {
   "cell_type": "markdown",
   "metadata": {},
   "source": [
    "#### 2. \n",
    "Identify all the unique values in the dictionary  \n",
    "inp: ```inp = {1:2, 2:3, 3:4, 4:2, 5:2}```  \n",
    "out: ```[2 ,3 ,4]```"
   ]
  },
  {
   "cell_type": "code",
   "execution_count": 118,
   "metadata": {},
   "outputs": [
    {
     "name": "stdout",
     "output_type": "stream",
     "text": [
      "[2, 3, 4]\n"
     ]
    }
   ],
   "source": [
    "inp = {1:2, 2:3, 3:4, 4:2, 5:2}\n",
    "list = [] \n",
    "for val in inp.values():\n",
    "    if val in list:\n",
    "        continue\n",
    "    else:\n",
    "        list.append(val)\n",
    "print(list)\n",
    "#reference: User mthecreator https://stackoverflow.com/questions/17218139/print-all-unique-values-in-a-python-dictionary\n",
    "#.values() returns a view object of all values in a dictionary. \n",
    "#run a for loop that uses .values to check if a value is present in the .values (i.e, not unique). for those values, continue. \n",
    "#else (i.e. unique), append the value to list. \n"
   ]
  },
  {
   "cell_type": "markdown",
   "metadata": {},
   "source": [
    "#### 3.\n",
    "return a list of the values of a dictionary when its corresponding key is an integer less than 10.  \n",
    "inp: ```{'Econ': '611', 1:2, 14:15, 6:'14'}```  \n",
    "out: ```[2, 14]```"
   ]
  },
  {
   "cell_type": "code",
   "execution_count": 148,
   "metadata": {},
   "outputs": [
    {
     "ename": "TypeError",
     "evalue": "'<=' not supported between instances of 'str' and 'int'",
     "output_type": "error",
     "traceback": [
      "\u001b[0;31m---------------------------------------------------------------------------\u001b[0m",
      "\u001b[0;31mTypeError\u001b[0m                                 Traceback (most recent call last)",
      "\u001b[0;32m<ipython-input-148-21e5dad30877>\u001b[0m in \u001b[0;36m<module>\u001b[0;34m()\u001b[0m\n\u001b[1;32m      2\u001b[0m \u001b[0mlist\u001b[0m \u001b[0;34m=\u001b[0m \u001b[0;34m[\u001b[0m\u001b[0;34m]\u001b[0m\u001b[0;34m\u001b[0m\u001b[0m\n\u001b[1;32m      3\u001b[0m \u001b[0;32mfor\u001b[0m \u001b[0mkey\u001b[0m\u001b[0;34m,\u001b[0m \u001b[0mval\u001b[0m \u001b[0;32min\u001b[0m \u001b[0minp\u001b[0m\u001b[0;34m.\u001b[0m\u001b[0mitems\u001b[0m\u001b[0;34m(\u001b[0m\u001b[0;34m)\u001b[0m\u001b[0;34m:\u001b[0m\u001b[0;34m\u001b[0m\u001b[0m\n\u001b[0;32m----> 4\u001b[0;31m     \u001b[0;32mif\u001b[0m \u001b[0mkey\u001b[0m \u001b[0;34m<=\u001b[0m \u001b[0;36m10\u001b[0m\u001b[0;34m:\u001b[0m\u001b[0;34m\u001b[0m\u001b[0m\n\u001b[0m\u001b[1;32m      5\u001b[0m         \u001b[0mlist\u001b[0m\u001b[0;34m.\u001b[0m\u001b[0mappend\u001b[0m\u001b[0;34m(\u001b[0m\u001b[0mval\u001b[0m\u001b[0;34m)\u001b[0m\u001b[0;34m\u001b[0m\u001b[0m\n\u001b[1;32m      6\u001b[0m \u001b[0mprint\u001b[0m\u001b[0;34m(\u001b[0m\u001b[0mlist\u001b[0m\u001b[0;34m)\u001b[0m\u001b[0;34m\u001b[0m\u001b[0m\n",
      "\u001b[0;31mTypeError\u001b[0m: '<=' not supported between instances of 'str' and 'int'"
     ]
    }
   ],
   "source": [
    "inp = {'Econ': '611', 1:2, 14:15, 6:'14'}\n",
    "list = [] \n",
    "for key, val in inp.items():\n",
    "    if key <= 10:\n",
    "        list.append(val)\n",
    "print(list)\n",
    "#unsure how to code to ignore strings"
   ]
  },
  {
   "cell_type": "markdown",
   "metadata": {},
   "source": [
    "#### 4.\n",
    "Given a string, find the word with the highest count.  \n",
    "a. Separate the string into words  \n",
    "b. keep a count of the words  \n",
    "c. return the word with the highest count  \n",
    "inp: ```\"I went to school to study.\"```  \n",
    "out: ```\"to: 2\"```"
   ]
  },
  {
   "cell_type": "code",
   "execution_count": 135,
   "metadata": {},
   "outputs": [
    {
     "name": "stdout",
     "output_type": "stream",
     "text": [
      "Part A: ['I', 'went', 'to', 'school', 'to', 'study.']\n",
      "Part B: {'I': 1, 'to': 2, 'went': 1, 'study.': 1, 'school': 1}\n",
      "Part C: to 2\n"
     ]
    }
   ],
   "source": [
    "inp = \"I went to school to study.\"\n",
    "ls = inp.split(\" \")\n",
    "print('Part A:', ls)\n",
    "dc = dict((x, ls.count(x)) for x in set(ls))\n",
    "print('Part B:', dc)\n",
    "maximum = max(dc, key=dc.get)  # Just use 'min' instead of 'max' for minimum.\n",
    "print('Part C:', maximum, dc[maximum])\n",
    "#reference: user Roman Perekhrest https://stackoverflow.com/questions/42044090/return-the-maximum-value-from-a-dictionary/42044202\n",
    "#reference:"
   ]
  },
  {
   "cell_type": "markdown",
   "metadata": {},
   "source": [
    "### Questions (60 points)\n",
    "Make sure to have the util_python directory in your repo so load_data() works"
   ]
  },
  {
   "cell_type": "code",
   "execution_count": 5,
   "metadata": {},
   "outputs": [],
   "source": [
    "data = load_data()"
   ]
  },
  {
   "cell_type": "code",
   "execution_count": 6,
   "metadata": {},
   "outputs": [
    {
     "data": {
      "text/plain": [
       "{'host_id': 2787,\n",
       " 'neighbourhood_group': 'Brooklyn',\n",
       " 'neighbourhood': 'Kensington',\n",
       " 'price': 149,\n",
       " 'minimum_nights': 1,\n",
       " 'room_type': 'Private room'}"
      ]
     },
     "execution_count": 6,
     "metadata": {},
     "output_type": "execute_result"
    }
   ],
   "source": [
    "data['2539']"
   ]
  },
  {
   "cell_type": "markdown",
   "metadata": {},
   "source": [
    "```data``` contains a dictionary of airbnb New york data. It is a nested dictionary, with the formath\n",
    "```{'house_id': {Dictionary of information about house}}```"
   ]
  },
  {
   "cell_type": "markdown",
   "metadata": {},
   "source": [
    "#### 1.\n",
    "a. Find the number of listings in each borough.  \n",
    "b. Find the number of listings of each listing type (house/private room/shared room)"
   ]
  },
  {
   "cell_type": "code",
   "execution_count": 152,
   "metadata": {},
   "outputs": [
    {
     "name": "stdout",
     "output_type": "stream",
     "text": [
      "Part A: {'Brooklyn': 20104, 'Manhattan': 21661, 'Queens': 5666, 'Staten Island': 373, 'Bronx': 1091}\n",
      "\n",
      " Part B: {'Private room': 22326, 'Entire home/apt': 25409, 'Shared room': 1160}\n"
     ]
    }
   ],
   "source": [
    "#PART A:\n",
    "count_by_boroughs = {} #define empty dictionary, will have format {borough:count}\n",
    "for listing_id, listing_details in data.items(): #for key, value in data.items()\n",
    "    count = 1 \n",
    "    borough = listing_details['neighbourhood_group'] #define count_by_boroughs key as the 'neighbourhood_group' key within the main dictionary's 'listing_details' values\n",
    "    if borough in count_by_boroughs: #if each borough is in the empty dictionary, \n",
    "        count += count_by_boroughs[borough] #increase count for each occurence of borough key\n",
    "    count_by_boroughs[borough] = count #adds borough keys to empty dictionary and sets respective values = count \n",
    "print('Part A:', count_by_boroughs)\n",
    "#reference: https://docs.python.org/3/tutorial/datastructures.html#dictionaries\n",
    "#reference: https://thomas-cokelaer.info/tutorials/python/dicts.html\n",
    "\n",
    "#PART B:\n",
    "count_by_type = {}\n",
    "for listing_id, listing_details in data.items():\n",
    "    count = 1 \n",
    "    room = listing_details['room_type']\n",
    "    if room in count_by_type:\n",
    "        count += count_by_type[room]\n",
    "    count_by_type[room] = count\n",
    "print('\\n Part B:', count_by_type)"
   ]
  },
  {
   "cell_type": "markdown",
   "metadata": {},
   "source": [
    "#### 2. Create a new dictionary that is grouped at the host level. \n",
    "The output should be ```{host_id:[{Dictionary of listing 1}, {listing 2},...]}```   \n",
    "How many listings do hosts have on average?"
   ]
  },
  {
   "cell_type": "code",
   "execution_count": 150,
   "metadata": {
    "scrolled": false
   },
   "outputs": [
    {
     "name": "stderr",
     "output_type": "stream",
     "text": [
      "IOPub data rate exceeded.\n",
      "The notebook server will temporarily stop sending output\n",
      "to the client in order to avoid crashing it.\n",
      "To change this limit, set the config variable\n",
      "`--NotebookApp.iopub_data_rate_limit`.\n",
      "\n",
      "Current values:\n",
      "NotebookApp.iopub_data_rate_limit=1000000.0 (bytes/sec)\n",
      "NotebookApp.rate_limit_window=3.0 (secs)\n",
      "\n"
     ]
    }
   ],
   "source": [
    "listings_by_host = {} #empty dictionary, will have form {host:{listings}}\n",
    "for listing_id, listing_details in data.items():\n",
    "    listings = [listing_details] #define new value as the value contents from the main dictionary {id:{details}} \n",
    "    host = listing_details['host_id'] #define new key as the host_id key from main dictionary {id:{details['host_id']}}\n",
    "    if host in listings_by_host:\n",
    "        listings += listings_by_host[host] #append a host's listing details to the host's key\n",
    "    listings_by_host[host] = listings #define host key and respective listing values in new dictionary\n",
    "print('#2: New Dictionary:', listings_by_host)\n",
    "\n",
    "#for average listings per host, divide all listings by number of individual host IDs\n",
    "listings= len(data) #counts the number of keys in main dictionary, i.e. the number of listings\n",
    "hosts = len(listings_by_host) #counts number of keys in new dictionary, i.e. number of hosts\n",
    "avg = listings/hosts\n",
    "print('\\n On average, hosts have %s listings' %(avg))"
   ]
  },
  {
   "cell_type": "markdown",
   "metadata": {},
   "source": [
    "#### 3. Do hosts have many listings across boroughs? Do they generally stick to one type of room?"
   ]
  },
  {
   "cell_type": "code",
   "execution_count": 151,
   "metadata": {},
   "outputs": [],
   "source": [
    "#incomplete\n",
    "#pseudo-code: create a dictionary of form {host ID: count of unique boroughs among host ID listings}\n",
    "#take average of len(borough count)/len(hostID)\n",
    "\n",
    "#dictionary of form {host ID: count of unique room types across host ID listings}\n",
    "#average of len(room count)/len(hostID)"
   ]
  },
  {
   "cell_type": "markdown",
   "metadata": {},
   "source": [
    "#### 4. How many neighbourhoods are in each bourough?"
   ]
  },
  {
   "cell_type": "code",
   "execution_count": 153,
   "metadata": {},
   "outputs": [
    {
     "name": "stdout",
     "output_type": "stream",
     "text": [
      "{'Brooklyn': 1, 'Manhattan': 1, 'Queens': 1, 'Staten Island': 1, 'Bronx': 1}\n"
     ]
    }
   ],
   "source": [
    "#define a dictionary with key borough, value nbhd count per borough\n",
    "nbhd_by_borough = {} #dict for {borough : nbhd count}\n",
    "for listing_id, listing_details in data.items():  \n",
    "     borough = listing_details['neighbourhood_group']  #defines borough key\n",
    "     count = 1\n",
    "     nbhd = listing_details['neighbourhood'] #accesses nbhd listings\n",
    "     if nbhd in nbhd_by_borough:   #for each neighborhood,\n",
    "          count += nbhd_by_borough[borough]   #increase count in borough\n",
    "     nbhd_by_borough[borough] = count #key = borough, value = count\n",
    "print(nbhd_by_borough)\n",
    "#unsure how to de-bug"
   ]
  },
  {
   "cell_type": "code",
   "execution_count": null,
   "metadata": {},
   "outputs": [],
   "source": []
  },
  {
   "cell_type": "code",
   "execution_count": null,
   "metadata": {},
   "outputs": [],
   "source": []
  }
 ],
 "metadata": {
  "kernelspec": {
   "display_name": "Python 3",
   "language": "python",
   "name": "python3"
  },
  "language_info": {
   "codemirror_mode": {
    "name": "ipython",
    "version": 3
   },
   "file_extension": ".py",
   "mimetype": "text/x-python",
   "name": "python",
   "nbconvert_exporter": "python",
   "pygments_lexer": "ipython3",
   "version": "3.7.4"
  }
 },
 "nbformat": 4,
 "nbformat_minor": 2
}
